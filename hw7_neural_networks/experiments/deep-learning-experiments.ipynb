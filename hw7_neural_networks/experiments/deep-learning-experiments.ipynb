{
 "cells": [
  {
   "cell_type": "markdown",
   "metadata": {},
   "source": [
    "# Deep Learning Experiments\n",
    "If you would like here is some structure for your experiments in a jupyter notebook. Here are some important keyboard shortcuts \n",
    "* shift + enter - run current cell and move to next cell\n",
    "* ctrl + enter - run current cell "
   ]
  },
  {
   "cell_type": "markdown",
   "metadata": {},
   "source": [
    "## Dependencies"
   ]
  },
  {
   "cell_type": "code",
   "execution_count": 1,
   "metadata": {},
   "outputs": [
    {
     "ename": "ImportError",
     "evalue": "cannot import name 'Dog_Classifier_Conv' from 'src.models' (../src/models.py)",
     "output_type": "error",
     "traceback": [
      "\u001b[0;31m---------------------------------------------------------------------------\u001b[0m",
      "\u001b[0;31mImportError\u001b[0m                               Traceback (most recent call last)",
      "\u001b[0;32m<ipython-input-1-89421652fe0f>\u001b[0m in \u001b[0;36m<module>\u001b[0;34m\u001b[0m\n\u001b[1;32m      3\u001b[0m \u001b[0msys\u001b[0m\u001b[0;34m.\u001b[0m\u001b[0mpath\u001b[0m\u001b[0;34m.\u001b[0m\u001b[0mappend\u001b[0m\u001b[0;34m(\u001b[0m\u001b[0;34m\"..\"\u001b[0m\u001b[0;34m)\u001b[0m\u001b[0;34m\u001b[0m\u001b[0;34m\u001b[0m\u001b[0m\n\u001b[1;32m      4\u001b[0m \u001b[0;34m\u001b[0m\u001b[0m\n\u001b[0;32m----> 5\u001b[0;31m \u001b[0;32mfrom\u001b[0m \u001b[0msrc\u001b[0m\u001b[0;34m.\u001b[0m\u001b[0mmodels\u001b[0m \u001b[0;32mimport\u001b[0m \u001b[0mDigit_Classifier\u001b[0m\u001b[0;34m,\u001b[0m \u001b[0mDog_Classifier_FC\u001b[0m\u001b[0;34m,\u001b[0m \u001b[0mDog_Classifier_Conv\u001b[0m\u001b[0;34m,\u001b[0m \u001b[0mSynth_Classifier\u001b[0m\u001b[0;34m\u001b[0m\u001b[0;34m\u001b[0m\u001b[0m\n\u001b[0m\u001b[1;32m      6\u001b[0m \u001b[0;32mfrom\u001b[0m \u001b[0msrc\u001b[0m\u001b[0;34m.\u001b[0m\u001b[0mrun_model\u001b[0m \u001b[0;32mimport\u001b[0m \u001b[0mrun_model\u001b[0m\u001b[0;34m\u001b[0m\u001b[0;34m\u001b[0m\u001b[0m\n\u001b[1;32m      7\u001b[0m \u001b[0;32mfrom\u001b[0m \u001b[0mdata\u001b[0m\u001b[0;34m.\u001b[0m\u001b[0mload_data\u001b[0m \u001b[0;32mimport\u001b[0m \u001b[0mload_mnist_data\u001b[0m\u001b[0;34m\u001b[0m\u001b[0;34m\u001b[0m\u001b[0m\n",
      "\u001b[0;31mImportError\u001b[0m: cannot import name 'Dog_Classifier_Conv' from 'src.models' (../src/models.py)"
     ]
    }
   ],
   "source": [
    "# if you need any other modules feel free to add them here\n",
    "import sys\n",
    "sys.path.append(\"..\") \n",
    "\n",
    "from src.models import Digit_Classifier, Dog_Classifier_FC, Dog_Classifier_Conv, Synth_Classifier\n",
    "from src.run_model import run_model\n",
    "from data.load_data import load_mnist_data\n",
    "from data.my_dataset import MyDataset\n",
    "\n",
    "import matplotlib.pyplot as plt\n",
    "import numpy as np\n",
    "import time\n",
    "import csv\n",
    "import os"
   ]
  },
  {
   "cell_type": "markdown",
   "metadata": {},
   "source": [
    "## MNIST"
   ]
  },
  {
   "cell_type": "markdown",
   "metadata": {},
   "source": [
    "#### Cell for Spliting Data\n",
    "Here I have given you an example of loading in a tarining dataset. Remember you need 4 differently sized datasets for this part of the experiment (experimenting trainingset size to see how it changes accuracy and training time). I have also given you the testing set you need, you won't need to make any other testing sets. "
   ]
  },
  {
   "cell_type": "code",
   "execution_count": null,
   "metadata": {},
   "outputs": [],
   "source": [
    "# create 4 datasets of size {500, 1000, 1500, 2000} from MNIST\n",
    "# to load the data need to use a pytorch Dataset object\n",
    "# this line will return (train_features, test_features, train_targets, test_targets)\n",
    "example_data_split = load_mnist_data(10, 1.0, training_size)\n",
    "example_training_set = MyDataset(example_data_split[0], example_data_split[2])\n",
    "\n",
    "# testing set\n",
    "data_split = load_mnist_data(10, 0, 1000)\n",
    "testing_set = MyDataset(data_split[1], data_split[3])"
   ]
  },
  {
   "cell_type": "markdown",
   "metadata": {},
   "source": [
    "#### Cell for Training\n",
    "Here you need to train 4 models with training set sizes [500, 1000, 1500, 2000]. Track the training time & accuracy. \n",
    "\n",
    "***Optinal*** \n",
    "\n",
    "you can track your training time and accuracy by making a dictionary entry for the model ex.\n",
    "```training_time.update({model_size:training_time})```\n",
    "\n",
    "I've included the dictionary defintions in a cell below, if this method is confusing to you feel free to track any other way.\n"
   ]
  },
  {
   "cell_type": "code",
   "execution_count": null,
   "metadata": {},
   "outputs": [],
   "source": [
    "# Dicionaries to track metrics\n",
    "# training time\n",
    "training_time = {}\n",
    "# training loss\n",
    "training_loss = {}\n",
    "# training accurary \n",
    "training_acc = {}\n",
    "# testing loss \n",
    "# OPTIONAL\n",
    "testing_loss = {}\n",
    "# testing acc\n",
    "testing_acc = {}\n"
   ]
  },
  {
   "cell_type": "code",
   "execution_count": null,
   "metadata": {},
   "outputs": [],
   "source": [
    "# HINT: To get the current time use: \n",
    "#     current_time = time.time()"
   ]
  },
  {
   "cell_type": "markdown",
   "metadata": {},
   "source": [
    "### Graphs"
   ]
  },
  {
   "cell_type": "markdown",
   "metadata": {},
   "source": [
    "#### Style\n",
    "matplotlib has a lot of different styles which can be found here: \n",
    "https://matplotlib.org/3.2.2/gallery/style_sheets/style_sheets_reference.html"
   ]
  },
  {
   "cell_type": "code",
   "execution_count": null,
   "metadata": {},
   "outputs": [],
   "source": [
    "from matplotlib import style\n",
    "style.use('fivethirtyeight')"
   ]
  },
  {
   "cell_type": "markdown",
   "metadata": {},
   "source": [
    "#### Model Size vs Training Time"
   ]
  },
  {
   "cell_type": "code",
   "execution_count": null,
   "metadata": {},
   "outputs": [],
   "source": [
    "plt.title(\"Model Size vs Training Time \")\n",
    "plt.xlabel('Training Set Size')\n",
    "plt.ylabel('Time (seconds)')"
   ]
  },
  {
   "cell_type": "markdown",
   "metadata": {},
   "source": [
    "#### Model size Vs Accuracy"
   ]
  },
  {
   "cell_type": "code",
   "execution_count": null,
   "metadata": {},
   "outputs": [],
   "source": [
    "plt.title(\"Model Size vs Accuracy\")\n",
    "plt.xlabel('Training Set Size')\n",
    "plt.ylabel('Accuracy')"
   ]
  },
  {
   "cell_type": "markdown",
   "metadata": {},
   "source": [
    "#### OPTIONAL Training loss"
   ]
  },
  {
   "cell_type": "code",
   "execution_count": null,
   "metadata": {},
   "outputs": [],
   "source": [
    "plt.legend(['500', '1000', '1500', '2000'], loc='upper right')\n",
    "plt.title('Training Loss')\n",
    "plt.ylabel(\"Loss\")\n",
    "plt.xlabel('Epoch')"
   ]
  },
  {
   "cell_type": "markdown",
   "metadata": {},
   "source": [
    "## Exploring DogSet"
   ]
  },
  {
   "cell_type": "markdown",
   "metadata": {},
   "source": [
    "#### Dogset CSV \n",
    "Explore breeds and trainingset vs testingset size using the included csv for DogSet"
   ]
  },
  {
   "cell_type": "code",
   "execution_count": null,
   "metadata": {},
   "outputs": [],
   "source": [
    "base_folder = '../data'\n",
    "sub_folder = 'DogSet'\n",
    "dataset_name = 'dogs.csv'\n",
    "data_path = os.path.join(base_folder, sub_folder, dataset_name)\n",
    "\n",
    "sizes = {'train':0, 'test':0, 'valid':0}\n",
    "breeds = []"
   ]
  },
  {
   "cell_type": "markdown",
   "metadata": {},
   "source": [
    "## Training a model on DogSet"
   ]
  },
  {
   "cell_type": "markdown",
   "metadata": {},
   "source": [
    "#### Load the Data"
   ]
  },
  {
   "cell_type": "code",
   "execution_count": null,
   "metadata": {},
   "outputs": [],
   "source": []
  },
  {
   "cell_type": "markdown",
   "metadata": {},
   "source": [
    "#### Train the Model"
   ]
  },
  {
   "cell_type": "code",
   "execution_count": null,
   "metadata": {},
   "outputs": [],
   "source": [
    "model = Dog_Classifier_FC()\n",
    "model, loss, acc = run_model()"
   ]
  },
  {
   "cell_type": "markdown",
   "metadata": {},
   "source": [
    "### Graphs and Metrics"
   ]
  },
  {
   "cell_type": "markdown",
   "metadata": {},
   "source": [
    "#### Graph the Training & Validation Loss"
   ]
  },
  {
   "cell_type": "code",
   "execution_count": null,
   "metadata": {},
   "outputs": [],
   "source": [
    "plt.title('Training and Validation Loss')\n",
    "plt.ylabel(\"Loss\")\n",
    "plt.xlabel('Epoch')"
   ]
  },
  {
   "cell_type": "markdown",
   "metadata": {},
   "source": [
    "#### Graph the Training & Validation Accuracy"
   ]
  },
  {
   "cell_type": "code",
   "execution_count": null,
   "metadata": {},
   "outputs": [],
   "source": [
    "plt.title('Training and Validation Accuracy')\n",
    "plt.ylabel(\"Accuracy\")\n",
    "plt.xlabel('Epoch')"
   ]
  },
  {
   "cell_type": "markdown",
   "metadata": {},
   "source": [
    "#### Reporting Testing Loss and Accuracy"
   ]
  },
  {
   "cell_type": "code",
   "execution_count": null,
   "metadata": {},
   "outputs": [],
   "source": [
    "test_loss, test_acc = run_model()\n",
    "print(f'Loss {test_loss}')\n",
    "print(f'acc {test_acc}')"
   ]
  },
  {
   "cell_type": "markdown",
   "metadata": {},
   "source": [
    "## Convolutional layers "
   ]
  },
  {
   "cell_type": "markdown",
   "metadata": {},
   "source": [
    "#### Instantiating a Model and Training it\n",
    "You may want to edit run_model to print out the epochs for this section"
   ]
  },
  {
   "cell_type": "code",
   "execution_count": null,
   "metadata": {},
   "outputs": [],
   "source": [
    "model = Dog_Classifier_Conv(kernel_size=[], stride=[])\n",
    "model1, loss1, acc1 = run_model()"
   ]
  },
  {
   "cell_type": "markdown",
   "metadata": {},
   "source": [
    "#### Graphs"
   ]
  },
  {
   "cell_type": "code",
   "execution_count": null,
   "metadata": {},
   "outputs": [],
   "source": [
    "# Don't forget to label the x and y axis\n",
    "plt.title('CNN Training and Validation Loss')\n",
    "plt.show()\n",
    "\n",
    "plt.title('CNN Training and Validation Accuracy')"
   ]
  },
  {
   "cell_type": "markdown",
   "metadata": {},
   "source": [
    "#### Reporting Testing Loss and Accuracy"
   ]
  },
  {
   "cell_type": "code",
   "execution_count": null,
   "metadata": {},
   "outputs": [],
   "source": [
    "test_loss, test_acc = run_model()\n",
    "print(f'Loss {test_loss}')\n",
    "print(f'acc {test_acc}')"
   ]
  },
  {
   "cell_type": "markdown",
   "metadata": {},
   "source": [
    "## Digging more deeply into convolutional networks\n",
    "\n",
    "Now try doing this last section on your own, here are some useful keyboard shortcuts while using jupyter\n",
    "\n",
    "* dd - delete a cell\n",
    "* a - new cell above\n",
    "* b - new cell below\n",
    "* shift + enter - run current cell and move to next cell\n",
    "* ctrl + enter - run current cell "
   ]
  },
  {
   "cell_type": "code",
   "execution_count": null,
   "metadata": {},
   "outputs": [],
   "source": []
  }
 ],
 "metadata": {
  "kernelspec": {
   "display_name": "Python 3",
   "language": "python",
   "name": "python3"
  },
  "language_info": {
   "codemirror_mode": {
    "name": "ipython",
    "version": 3
   },
   "file_extension": ".py",
   "mimetype": "text/x-python",
   "name": "python",
   "nbconvert_exporter": "python",
   "pygments_lexer": "ipython3",
   "version": "3.7.6"
  }
 },
 "nbformat": 4,
 "nbformat_minor": 4
}
